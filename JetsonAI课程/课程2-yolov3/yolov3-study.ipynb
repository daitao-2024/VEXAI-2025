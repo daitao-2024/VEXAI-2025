{
 "cells": [
  {
   "cell_type": "markdown",
   "metadata": {},
   "source": [
    "# YOLOv3 图像识别完整教程\n",
    "\n",
    "本教程涵盖了 YOLOv3 的完整使用流程，从安装到执行目标检测。\n",
    "\n",
    "## 1. 环境准备与安装"
   ]
  },
  {
   "cell_type": "code",
   "execution_count": 1,
   "metadata": {},
   "outputs": [],
   "source": [
    "# 检查 GPU 是否可用（可选）\n",
    "!nvidia-smi"
   ]
  },
  {
   "cell_type": "code",
   "execution_count": 2,
   "metadata": {},
   "outputs": [],
   "source": [
    "# 安装必要的依赖（假设 OpenCV 已安装，若未安装则需要安装）\n",
    "!pip install opencv-python numpy matplotlib"
   ]
  },
  {
   "cell_type": "markdown",
   "metadata": {},
   "source": [
    "## 2. 导入必要的库"
   ]
  },
  {
   "cell_type": "code",
   "execution_count": 3,
   "metadata": {},
   "outputs": [],
   "source": [
    "import os\n",
    "import cv2\n",
    "import numpy as np\n",
    "import matplotlib.pyplot as plt\n",
    "from PIL import Image\n",
    "from IPython.display import display, Image as IPImage\n",
    "from matplotlib import font_manager\n",
    "\n",
    "# 设置 matplotlib 显示参数\n",
    "%matplotlib inline\n",
    "plt.rcParams['figure.figsize'] = [12, 8]\n",
    "\n",
    "# 检查系统中可用字体并设置支持中文的字体\n",
    "available_fonts = [f.name for f in font_manager.FontManager().ttflist]\n",
    "preferred_fonts = ['PingFang SC', 'Heiti TC', 'Songti SC', 'Arial Unicode MS']  # macOS 常见中文字体\n",
    "selected_font = None\n",
    "for font in preferred_fonts:\n",
    "    if font in available_fonts:\n",
    "        selected_font = font\n",
    "        break\n",
    "\n",
    "if selected_font:\n",
    "    plt.rcParams['font.sans-serif'] = [selected_font]\n",
    "    print(f'使用字体: {selected_font}')\n",
    "else:\n",
    "    print('未找到支持中文的字体，请检查系统字体配置')\n",
    "    plt.rcParams['font.sans-serif'] = ['sans-serif']  # 回退到默认\n",
    "\n",
    "plt.rcParams['axes.unicode_minus'] = False  # 解决负号显示问题"
   ]
  },
  {
   "cell_type": "markdown",
   "metadata": {},
   "source": [
    "## 3. 加载 YOLOv3 预训练模型\n",
    "\n",
    "我们将使用 YOLOv3 的预训练权重（yolov3.weights）和配置文件（yolov3.cfg）。这些文件可以从 YOLO 官方网站下载:\n",
    "- yolov3.weights: https://pjreddie.com/media/files/yolov3.weights\n",
    "- yolov3.cfg: https://github.com/pjreddie/darknet/blob/master/cfg/yolov3.cfg\n",
    "- coco.names: https://github.com/pjreddie/darknet/blob/master/data/coco.names\n"
   ]
  },
  {
   "cell_type": "code",
   "execution_count": 4,
   "metadata": {},
   "outputs": [],
   "source": [
    "# 下载 YOLOv3 模型文件（如果尚未下载）\n",
    "if not os.path.exists('yolov3.weights'):\n",
    "    !wget https://pjreddie.com/media/files/yolov3.weights -q\n",
    "if not os.path.exists('yolov3.cfg'):\n",
    "    !wget https://raw.githubusercontent.com/pjreddie/darknet/master/cfg/yolov3.cfg -q\n",
    "if not os.path.exists('coco.names'):\n",
    "    !wget https://raw.githubusercontent.com/pjreddie/darknet/blob/master/data/coco.names -q\n",
    "\n",
    "# 加载 YOLOv3 模型\n",
    "net = cv2.dnn.readNet('yolov3.weights', 'yolov3.cfg')\n",
    "\n",
    "# 加载类别名称\n",
    "with open('coco.names', 'r') as f:\n",
    "    classes = [line.strip() for line in f.readlines()]\n",
    "\n",
    "# 获取输出层名称\n",
    "layer_names = net.getLayerNames()\n",
    "output_layers = [layer_names[i - 1] for i in net.getUnconnectedOutLayers()]\n",
    "\n",
    "print(f'模型加载完成: {classes}')"
   ]
  },
  {
   "cell_type": "markdown",
   "metadata": {},
   "source": [
    "## 4. 定义 YOLOv3 检测函数"
   ]
  },
  {
   "cell_type": "code",
   "execution_count": 5,
   "metadata": {},
   "outputs": [],
   "source": [
    "def detect_objects(image, net, output_layers, conf_threshold=0.5, nms_threshold=0.4):\n",
    "    height, width = image.shape[:2]\n",
    "    \n",
    "    # 前处理：调整图像大小并归一化\n",
    "    blob = cv2.dnn.blobFromImage(image, 1/255.0, (416, 416), swapRB=True, crop=False)\n",
    "    net.setInput(blob)\n",
    "    \n",
    "    # 前向传播\n",
    "    outputs = net.forward(output_layers)\n",
    "    \n",
    "    # 解析检测结果\n",
    "    boxes, confidences, class_ids = [], [], []\n",
    "    for output in outputs:\n",
    "        for detection in output:\n",
    "            scores = detection[5:]\n",
    "            class_id = np.argmax(scores)\n",
    "            confidence = scores[class_id]\n",
    "            if confidence > conf_threshold:\n",
    "                center_x = int(detection[0] * width)\n",
    "                center_y = int(detection[1] * height)\n",
    "                w = int(detection[2] * width)\n",
    "                h = int(detection[3] * height)\n",
    "                x = int(center_x - w / 2)\n",
    "                y = int(center_y - h / 2)\n",
    "                boxes.append([x, y, w, h])\n",
    "                confidences.append(float(confidence))\n",
    "                class_ids.append(class_id)\n",
    "    \n",
    "    # 非极大值抑制 (NMS)\n",
    "    indices = cv2.dnn.NMSBoxes(boxes, confidences, conf_threshold, nms_threshold)\n",
    "    \n",
    "    # 绘制检测结果\n",
    "    result_image = image.copy()\n",
    "    detections = []\n",
    "    for i in indices:\n",
    "        box = boxes[i]\n",
    "        x, y, w, h = box\n",
    "        label = f'{classes[class_ids[i]]}: {confidences[i]:.2f}'\n",
    "        color = [int(c) for c in np.random.randint(0, 255, size=3)]  # 检测框为随机颜色\n",
    "        white_color = (255, 255, 255)  # 文本固定为白色\n",
    "        cv2.rectangle(result_image, (x, y), (x + w, y + h), color, 2)\n",
    "        cv2.putText(result_image, label, (x, y - 10), cv2.FONT_HERSHEY_SIMPLEX, 0.5, white_color, 2)\n",
    "        detections.append({\n",
    "            'class': classes[class_ids[i]],\n",
    "            'confidence': confidences[i],\n",
    "            'box': [x, y, x + w, y + h]\n",
    "        })\n",
    "    \n",
    "    return result_image, detections"
   ]
  },
  {
   "cell_type": "markdown",
   "metadata": {},
   "source": [
    "## 5. 准备测试图像\n",
    "\n",
    "这里我们提供四张测试图像，并以 2x2 格式显示。"
   ]
  },
  {
   "cell_type": "code",
   "execution_count": null,
   "metadata": {},
   "outputs": [],
   "source": [
    "# 定义四张图像路径\n",
    "image_paths = ['../yolo-images/giraffe.jpg', '../yolo-images/eagle.jpg', '../yolo-images/bus.jpg', '../yolo-images/dog.jpg']\n",
    "\n",
    "# 读取并显示原始图像\n",
    "fig, axs = plt.subplots(2, 2, figsize=(12, 8))\n",
    "for idx, img_path in enumerate(image_paths):\n",
    "    img = cv2.imread(img_path)\n",
    "    if img is None:\n",
    "        print(f'无法加载图像: {img_path}')\n",
    "        continue\n",
    "    img_rgb = cv2.cvtColor(img, cv2.COLOR_BGR2RGB)\n",
    "    row, col = divmod(idx, 2)\n",
    "    axs[row, col].imshow(img_rgb)\n",
    "    axs[row, col].set_title(f'原始图像: {os.path.basename(img_path)}')\n",
    "    axs[row, col].axis('off')\n",
    "plt.tight_layout()\n",
    "plt.show()"
   ]
  },
  {
   "cell_type": "markdown",
   "metadata": {},
   "source": [
    "## 6. 获取并处理检测结果数据 (2x2 显示)"
   ]
  },
  {
   "cell_type": "code",
   "execution_count": 7,
   "metadata": {},
   "outputs": [],
   "source": [
    "# 执行检测并显示结果\n",
    "images = [cv2.imread(path) for path in image_paths]\n",
    "results = []\n",
    "for img in images:\n",
    "    if img is not None:\n",
    "        result = detect_objects(img, net, output_layers)\n",
    "        results.append(result)\n",
    "    else:\n",
    "        results.append((None, []))\n",
    "\n",
    "# 打印检测结果\n",
    "for idx, (img_path, (_, detections)) in enumerate(zip(image_paths, results)):\n",
    "    print(f'图像 {idx + 1}: {os.path.basename(img_path)}')\n",
    "    print('边界框数量:', len(detections))\n",
    "    for detection in detections:\n",
    "        print(f\"类别: {detection['class']}, 置信度: {detection['confidence']:.2f}, 边界框: {detection['box']}\")\n",
    "    print('-' * 50)\n",
    "\n",
    "# 显示检测结果图像 (2x2)\n",
    "fig, axs = plt.subplots(2, 2, figsize=(12, 8))\n",
    "for idx, (result_image, _) in enumerate(results):\n",
    "    row, col = divmod(idx, 2)\n",
    "    if result_image is not None:\n",
    "        axs[row, col].imshow(cv2.cvtColor(result_image, cv2.COLOR_BGR2RGB))\n",
    "        axs[row, col].set_title(f'检测结果: {os.path.basename(image_paths[idx])}')\n",
    "    else:\n",
    "        axs[row, col].text(0.5, 0.5, '图像加载失败', ha='center', va='center')\n",
    "    axs[row, col].axis('off')\n",
    "plt.tight_layout()\n",
    "plt.show()"
   ]
  },
  {
   "cell_type": "markdown",
   "metadata": {},
   "source": [
    "## 7. 保存检测结果"
   ]
  },
  {
   "cell_type": "code",
   "execution_count": 8,
   "metadata": {},
   "outputs": [],
   "source": [
    "# 创建保存结果的目录\n",
    "os.makedirs('detection_results', exist_ok=True)\n",
    "\n",
    "# 对所有图片进行检测并保存结果\n",
    "for img_path, (result_image, detections) in zip(image_paths, results):\n",
    "    if result_image is not None:\n",
    "        # 保存包含检测结果的图像\n",
    "        output_path = f'detection_results/result_{os.path.basename(img_path)}'\n",
    "        cv2.imwrite(output_path, result_image)\n",
    "        print(f'检测结果保存到: {output_path}')\n",
    "    \n",
    "        # 保存检测结果的文本信息到 TXT 文件\n",
    "        txt_path = f'detection_results/result_{os.path.basename(img_path).split(\".\")[0]}.txt'\n",
    "        with open(txt_path, 'w') as f:\n",
    "            f.write(f'检测结果 - {img_path}\\n')\n",
    "            f.write('-' * 50 + '\\n')\n",
    "            for detection in detections:\n",
    "                f.write(f\"类别: {detection['class']}, 置信度: {detection['confidence']:.4f}\\n\")\n",
    "                f.write(f\"边界框: {detection['box']}\\n\")\n",
    "                f.write('-' * 30 + '\\n')\n",
    "        print(f'检测信息保存到: {txt_path}')"
   ]
  },
  {
   "cell_type": "markdown",
   "metadata": {},
   "source": [
    "## 8. 总结\n",
    "\n",
    "在本教程中，我们完成了以下任务:\n",
    "1. 安装了必要的依赖\n",
    "2. 加载了预训练的 YOLOv3 模型\n",
    "3. 对图像进行了目标检测\n",
    "4. 以 2x2 格式可视化了原始图像和检测结果\n",
    "5. 自定义处理检测结果数据\n",
    "6. 保存了检测结果和信息\n",
    "\n",
    "YOLOv3 是经典的目标检测模型，更多信息可参考官方文档: https://pjreddie.com/darknet/yolo/\n"
   ]
  }
 ],
 "metadata": {
  "kernelspec": {
   "display_name": "yolov11",
   "language": "python",
   "name": "python3"
  },
  "language_info": {
   "codemirror_mode": {
    "name": "ipython",
    "version": 3
   },
   "file_extension": ".py",
   "mimetype": "text/x-python",
   "name": "python",
   "nbconvert_exporter": "python",
   "pygments_lexer": "ipython3",
   "version": "3.9.21"
  }
 },
 "nbformat": 4,
 "nbformat_minor": 4
}
