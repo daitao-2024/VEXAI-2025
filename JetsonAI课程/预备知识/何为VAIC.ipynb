{
 "cells": [
  {
   "cell_type": "markdown",
   "metadata": {},
   "source": [
    "\n",
    "#  何为VAIC\n",
    "VAIC是在V5机器人竞赛规定的赛场、机器人结构材料、运动部件、控制硬件、软件开发平台及传感器的基础上， 引进了NVIDIA公司Jetson边缘计算平台的硬件和软件，实现了V5机器人竞赛的全自动化和智能化， 使得VEX机器人竞赛可以追随当前AI技术迅速普及、发展的历史进程。<br>\n",
    "## VAIC为实现AI化的设备和硬件的技术升级：\n"
   ]
  },
  {
   "cell_type": "markdown",
   "metadata": {},
   "source": [
    "### (1)NVIDIA Jetson Orin Nano 8GB边缘计算平台： \n",
    "NVIDIA Jetson Orin Nano 8GB 预装的是基于 **Ubuntu 20.04 LTS** 或更高版本（如 22.04 LTS）的操作系统，通过 NVIDIA 的 \n",
    "JetPack SDK 提供支持。JetPack SDK 是专为 Jetson 平台设计的软件堆栈，集成了深度学习库、计算机视觉工具和系统优化功能。\n",
    "NVIDIA Jetson Orin Nano 8GB 是一款紧凑而强大的边缘 AI 计算模块，专为开发入门级 AI 应用和设备（如机器人、智能摄像头和边缘计算设备）而设计。\n",
    "它属于 NVIDIA Jetson 系列产品线，以出色的性能功耗比和丰富的软件生态系统著称。\n"
   ]
  },
  {
   "cell_type": "markdown",
   "metadata": {},
   "source": [
    "<img src=\"../image/jetson-nano.jpg\" width=\"500\" height=\"350\">"
   ]
  },
  {
   "cell_type": "markdown",
   "metadata": {},
   "source": [
    "图1.Jetson Nano边缘计算平台"
   ]
  },
  {
   "cell_type": "markdown",
   "metadata": {},
   "source": [
    "### 主要特点：\n",
    "1. **AI 性能**：\n",
    "   - 提供高达 40 TOPS（每秒万亿次运算）的 AI 计算能力，相比上一代 Jetson Nano 性能提升高达 80 倍。\n",
    "   - 在升级到 SUPER 版本后，性能可进一步提升至 67 TOPS（需软件更新支持）。\n",
    "\n",
    "2. **硬件规格**：\n",
    "   - **GPU**：基于 NVIDIA Ampere 架构，配备 1024 个 CUDA 核心和 32 个 Tensor 核心，适用于深度学习和推理任务。\n",
    "   - **CPU**：6 核 Arm Cortex-A78AE 处理器，提供强劲的多任务处理能力。\n",
    "   - **内存**：8GB LPDDR5，提供 68 GB/s 的带宽（SUPER 版可达 102 GB/s）。\n",
    "   - **功耗**：可配置在 7W 至 15W 之间（SUPER 版最高支持 25W），兼顾性能与能效。\n",
    "\n",
    "3. **紧凑设计**：\n",
    "   - 尺寸仅为 Jetson 系列中最小的模块之一，适合空间受限的应用场景。\n",
    "\n",
    "4. **接口与扩展**：\n",
    "   - 支持高速 I/O 接口，包括 USB 3.2、Gigabit 以太网、MIPI CSI（用于摄像头）、PCIe 和 NVMe 存储。\n",
    "   - 开发者套件配备 DisplayPort、多个 USB 端口和 40 针 GPIO，方便原型开发。\n",
    "\n",
    "5. **软件支持**：\n",
    "   - 运行 NVIDIA JetPack SDK，基于 Ubuntu Linux 系统，预装 CUDA、TensorRT 和 cuDNN 等 AI 开发工具。\n",
    "   - 支持多种应用框架，如 Isaac（机器人）、DeepStream（视觉 AI）和 Riva（对话 AI）。\n",
    "   - 可使用 NVIDIA TAO 工具包微调预训练模型，并通过 Omniverse Replicator 生成合成数据。\n",
    "\n",
    "### 应用场景：\n",
    "Jetson Orin Nano 8GB 是边缘 AI 的理想选择，适用于：\n",
    "- **机器人**：支持多路 AI 推理管道，驱动智能导航和物体识别。\n",
    "- **智能视觉**：用于监控、人流量分析和工业质检。\n",
    "- **消费电子**：为低成本设备带来复杂 AI 功能。\n",
    "- **智能家居**：提供智能安防和家庭自动化解决方案。\n",
    "- **自动驾驶**：支持自动驾驶汽车的视觉感知和决策支持。·\n",
    "\n",
    "\n",
    "### 总结：\n",
    "Jetson Orin Nano 8GB 以其强大的 AI 性能、低功耗设计和广泛的软件支持，成为开发者、学生和创客构建下一代边缘 AI 产品的优选平台。无论是打造 AI 驱动的机器人还是智能设备，它都能将创意快速变为现实。"
   ]
  },
  {
   "cell_type": "markdown",
   "metadata": {},
   "source": [
    "### (2)选用Intel RealSense双目测距摄像头： \n",
    "Intel RealSense双目测距摄像头是竞赛场地环境定位、目标物识别及其位置和距离判断、运动路径规划等智能认知行为基础的视觉系统。<br>\n",
    "Intel RealSense D435摄像头使用立体视觉技术进行测距。它配备了两个红外摄像头和一个红外激光投影仪，可以创建深度图像。<br>\n",
    "D435通过测量由激光投影仪发射的红外光在物体上的反射时间来计算距离，从而实现对场景深度的精确测量。<br>\n",
    "这种技术允许D435捕捉更细腻的深度细节，有效距离从0.2米到最多10米。此外，D435支持多种深度分辨率和帧率配置，\n",
    "同时也配备了普通高分辨率的RGB摄像头，对目标物外形和色彩进行判断。<br>"
   ]
  },
  {
   "cell_type": "markdown",
   "metadata": {},
   "source": [
    "<img src=\"../image/Intel435.jpg\" width=\"400\" height=\"300\">"
   ]
  },
  {
   "cell_type": "markdown",
   "metadata": {},
   "source": [
    "图2.Intel RealSense双目测距摄像头"
   ]
  },
  {
   "cell_type": "markdown",
   "metadata": {},
   "source": [
    "### (3)引入YOLOv3为基础的深度神经网络："
   ]
  },
  {
   "cell_type": "markdown",
   "metadata": {},
   "source": [
    "&nbsp;&nbsp;&nbsp;&nbsp;&nbsp;\n",
    "YOLOv3（You Only Look Once版本3）是一个深度学习的实时目标检测系统，由Joseph Redmon和其他研究者开发。<br>\n",
    "它能够在单次前向传播中检测图片中的多个物体及其类别，与先前的版本相比，YOLOv3在速度和准确性上都有显著提升。<br>\n",
    "主要特性：<br>\n",
    "速度与准确性：YOLOv3可以实现实时目标检测，同时保持较高的准确率。<br>\n",
    "Darknet-53：YOLOv3使用了新的卷积网络架构Darknet-53，比之前的Darknet-19层次更深，参数更多，检测精度更高。<br>\n",
    "多尺度检测：YOLOv3在三个不同尺度上进行预测，改进了对小尺寸物体的检测能力。<br>\n",
    "类别预测：它使用逻辑回归来预测不同的物体类别。<br>\n",
    "锚点机制：通过在训练过程中学习锚点来预测边界框，提高了模型的稳定性和泛化能力。<br>\n",
    "由于YOLOv3的开源和高度优化的实现，它在学术界和工业界都得到了广泛的应用。<br>\n",
    "当前，人工智能技术的突破主要是深度神经网络的应用，YOLOv3的引入和运用是VEX-5机器人竞赛AI化的重要标志。<br>\n"
   ]
  },
  {
   "cell_type": "markdown",
   "metadata": {},
   "source": [
    "\n",
    "下图为VAIC官方提供的VAIC整体硬件组成结构，我们将对其各个部分功能及相互关联进行说明。<br>\n",
    "图中左边显示的是VEX原有的硬件功能模块，右边部分显示的是新增的AI部分的硬件功能模块。<br>\n",
    "图中右下角的色块表示的是各模块连接导线的种类，与图中连接线颜色对应。可以看出Jetson Nano是通过红色VEX 3-Wire Connector to Barrel plug Cable供电。<br>\n",
    "利用VEX GPS检测到机器人在赛场上的当前位置，通过USB C Cable上传给Jetson Nano， 同样Jetson Nano视觉检测到的目标物位置数据通过Micro USB Cable传给VEX Brain。<br> \n",
    "图右边的AI部分显示Jetson Nano计算需要与四部分硬件连接：<br>\n",
    "1.MicroSD Card 烧入了VEX AI提供的vex_ai.img镜像文件，包含了Ubuntu18操作系统及Jetson Nano运行的所有软件。 <br> \n",
    "2.Intel WI-FI module 连接WI-FI的互联网通信硬件模块，以及两根配套的发送接受天线，为应用开发的互联网连接和图中未表示的场外设备远程显示功能提供支持。<br>\n",
    "3.Intel RealSence Depth Camera 如上所述，实时采集环境图像的双目测距摄像头。 <br> \n",
    "4.VEX GPS Sensor VEX提供GPS传感器，通过相机对场地边条块码扫描，计算机器人在场地的位置，并上传到Jetson Nano运行的程序中，供视觉识别从视觉场景坐标到比赛场地的世界坐标变换使用。<br> \n",
    "以上是对VAIC硬件组成的简单说明，接下来我们将对VAIC的软件系统进行详细介绍。为与Jetson Nano边缘计算平台配合，原VEX brain软件编程将需要进行一些改动，这些内容在对我们将在对Jetson Nano和Vex Brian的软件进行说明时一并介绍。<br>\n"
   ]
  },
  {
   "cell_type": "markdown",
   "metadata": {},
   "source": [
    "<img src=\"../image/VAIC.jpg\" width=\"600\" height=\"400\">"
   ]
  },
  {
   "cell_type": "markdown",
   "metadata": {},
   "source": [
    "图3.VAIC_24_25竞赛项目硬件构成"
   ]
  },
  {
   "cell_type": "markdown",
   "metadata": {},
   "source": [
    "\n",
    "### (4)Jetbot 智能小车："
   ]
  },
  {
   "cell_type": "markdown",
   "metadata": {},
   "source": [
    "<img src=\"../image/小车.jpg\" width=\"400\" height=\"500\">"
   ]
  },
  {
   "cell_type": "markdown",
   "metadata": {},
   "source": [
    "JetBot智能小车是基于 NVIDIA Jetson Nano 开发板的开源机器人平台，专为教育、研究和开发人员设计。JetBot智能小车集成了多种传感器和模块，适合进行 AI 和机器人开发，尤其是在自动驾驶、计算机视觉和机器学习等领域的应用。\n",
    "主要特点：\n",
    "\n",
    "1. 平台基础：\n",
    "   - JetBot 采用 NVIDIA Jetson Nano 作为核心计算平台，利用其强大的 GPU 和处理器来处理图像、进行物体识别、路径规划等任务。\n",
    "\n",
    "2. 模块化设计：\n",
    "   - JetBot 小车由多个模块组成，易于组装和扩展。用户可以根据自己的需求添加额外的传感器和外设。\n",
    "\n",
    "3. 传感器和外设：\n",
    "\n",
    "   摄像头：\n",
    "  - JetBot 搭载了一个广角摄像头，通常为 USB 摄像头或 CSI 接口摄像头（例如 RPi Camera Module v2）。\n",
    "  - 摄像头主要用于计算机视觉任务，如物体识别、路径检测、障碍物检测和目标跟踪等。\n",
    "  - 解析度通常为 8 兆像素，支持 1080p 视频录制，可以实时捕获高质量的视频流并进行处理。\n",
    "\n",
    "   超声波传感器：\n",
    "  - JetBot 配备了一个或多个超声波传感器，用于测量与障碍物之间的距离。\n",
    "  - 超声波传感器通过发射和接收声波来测量物体的距离，是避障功能的重要组成部分。\n",
    "  - 通常使用 HC-SR04 模块，测距范围为 2cm 至 4m，精度为 0.3cm。\n",
    "\n",
    "      陀螺仪/加速度计：\n",
    "  - 某些 JetBot 版本或套件可能包括一个 6 轴或 9 轴 IMU（惯性测量单元），如 MPU6050 或 LSM9DS1。\n",
    "  - IMU 用于测量车体的加速度、角速度等信息，有助于姿态估计和运动控制。\n",
    "5. 通讯模块:\n",
    "\n",
    "   JetBot 小车提供了多种通讯方式，用于与外部设备和模块进行数据交换。\n",
    "\n",
    "  - Wi-Fi 模块：\n",
    "  - Jetson Nano 开发板通常内置 Wi-Fi 适配器或支持通过 USB Wi-Fi dongle 进行无线网络连接。\n",
    "  - Wi-Fi 主要用于远程控制、数据传输和软件更新，支持 SSH 远程登录、VNC 远程桌面控制等功能。\n",
    "\n",
    "  - Bluetooth 模块（可选）：\n",
    "  - JetBot 支持通过 USB 蓝牙适配器添加 Bluetooth 功能，用于短距离无线通信。\n",
    "  - 蓝牙可以用于连接外部控制器、传感器或者与其他蓝牙设备进行通信。\n",
    "\n",
    "  - UART、I2C、SPI 通讯接口：\n",
    "  - JetBot 开发板提供多种 GPIO 接口，包括 UART、I2C 和 SPI，用于连接和通信外部传感器和模块。\n",
    "  - 这些接口可以用于扩展传感器、连接显示屏或与其他微控制器进行数据交换。\n",
    "\n",
    "5. 驱动模块\n",
    "\n",
    "JetBot 的驱动系统由以下关键模块组成，确保小车的运动和控制功能。\n",
    "\n",
    "  - 电机驱动板：\n",
    "  - JetBot 小车通常采用双电机驱动，使用 H 桥电机驱动板（如 L298N、TB6612FNG）控制直流电机的转速和方向。\n",
    "  - 驱动板通过 PWM（脉宽调制）信号来控制电机的速度，并通过控制 H 桥电路改变电流方向来控制电机的正反转。\n",
    "\n",
    " - 直流电机：\n",
    "  - 小车配备了两个或四个直流电机，用于驱动车轮。\n",
    "  - 电机通常为 6V 或 12V 规格，支持双向旋转，能够提供足够的扭矩和速度来驱动车体。\n",
    "  - 配备编码器的电机能够实时反馈电机转速和位置，支持更加精确的运动控制。\n",
    "\n",
    "  - 电源管理模块：\n",
    "  - JetBot 通常通过可充电锂电池组供电，电源管理模块负责电压调节和供电管理。\n",
    "  - 电池组通常为 7.4V 或 11.1V 的锂电池，并通过 DC-DC 转换器为电机和开发板提供稳定的电压。\n",
    "\n",
    "  - 电池保护模块：\n",
    "  - 配备电池保护电路，确保锂电池安全工作，避免过充、过放或短路。\n",
    "6. 软件支持：\n",
    "   - JetBot 运行 Jetson Nano 上的 Ubuntu 操作系统，并支持 JetPack SDK，提供了 CUDA、TensorRT 等 AI 开发工具。\n",
    "   - 预装了 ROS（机器人操作系统）支持，适合机器人开发的模块化和通信需求。\n",
    "   - Waveshare 提供了开源的软件示例和教程，涵盖自动驾驶、物体跟踪、避障等功能。\n",
    "\n",
    "7. 应用场景：\n",
    "   - 自动驾驶：利用摄像头和 AI 模型，JetBot 可以进行道路识别、路径规划，并实现简单的自动驾驶功能。\n",
    "   - 计算机视觉：JetBot 可以通过摄像头进行图像识别和目标跟踪，应用于物体识别、手势控制等场景。\n",
    "   - 教育与研究：JetBot 是一个理想的教学工具，适合在课堂和实验室中演示和实验 AI 和机器人技术"
   ]
  }
 ],
 "metadata": {
  "language_info": {
   "name": "python"
  }
 },
 "nbformat": 4,
 "nbformat_minor": 2
}
